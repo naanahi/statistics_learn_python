{
 "cells": [
  {
   "cell_type": "markdown",
   "id": "b5eb6f25-0b32-482c-a15d-4c7cc29f85bd",
   "metadata": {},
   "source": [
    "### 推定"
   ]
  },
  {
   "cell_type": "code",
   "execution_count": 3,
   "id": "0131fe09-dc5b-4327-989b-e6c597515fc0",
   "metadata": {},
   "outputs": [],
   "source": [
    "import numpy as np\n",
    "import pandas as pd\n",
    "import scipy as sp\n",
    "from scipy import stats\n",
    "\n",
    "## 実行に無関係なエラーメッセージを消す\n",
    "import warnings\n",
    "warnings.filterwarnings('ignore')\n",
    "\n",
    "from matplotlib import pyplot as plt\n",
    "%matplotlib inline\n",
    "\n",
    "## いい感じのグラフを出力する\n",
    "import seaborn as sns\n",
    "sns.set()"
   ]
  },
  {
   "cell_type": "code",
   "execution_count": 11,
   "id": "265de49b-74ff-4308-ba3d-a12c57c474c1",
   "metadata": {},
   "outputs": [
    {
     "data": {
      "text/html": [
       "<div>\n",
       "<style scoped>\n",
       "    .dataframe tbody tr th:only-of-type {\n",
       "        vertical-align: middle;\n",
       "    }\n",
       "\n",
       "    .dataframe tbody tr th {\n",
       "        vertical-align: top;\n",
       "    }\n",
       "\n",
       "    .dataframe thead th {\n",
       "        text-align: right;\n",
       "    }\n",
       "</style>\n",
       "<table border=\"1\" class=\"dataframe\">\n",
       "  <thead>\n",
       "    <tr style=\"text-align: right;\">\n",
       "      <th></th>\n",
       "      <th>length</th>\n",
       "    </tr>\n",
       "  </thead>\n",
       "  <tbody>\n",
       "    <tr>\n",
       "      <th>0</th>\n",
       "      <td>4.352982</td>\n",
       "    </tr>\n",
       "    <tr>\n",
       "      <th>1</th>\n",
       "      <td>3.735304</td>\n",
       "    </tr>\n",
       "    <tr>\n",
       "      <th>2</th>\n",
       "      <td>5.944617</td>\n",
       "    </tr>\n",
       "    <tr>\n",
       "      <th>3</th>\n",
       "      <td>3.798326</td>\n",
       "    </tr>\n",
       "    <tr>\n",
       "      <th>4</th>\n",
       "      <td>4.087688</td>\n",
       "    </tr>\n",
       "  </tbody>\n",
       "</table>\n",
       "</div>"
      ],
      "text/plain": [
       "     length\n",
       "0  4.352982\n",
       "1  3.735304\n",
       "2  5.944617\n",
       "3  3.798326\n",
       "4  4.087688"
      ]
     },
     "execution_count": 11,
     "metadata": {},
     "output_type": "execute_result"
    }
   ],
   "source": [
    "fish = pd.read_csv('data/3-7-1-fish_length.csv')\n",
    "fish.head()"
   ]
  },
  {
   "cell_type": "markdown",
   "id": "6f8b0c23-e245-494b-b582-c3d099335042",
   "metadata": {},
   "source": [
    "### 点推定(平均 標準偏差)"
   ]
  },
  {
   "cell_type": "code",
   "execution_count": 7,
   "id": "a3a74e3b-493c-4d91-80b9-4a03b5cd17a0",
   "metadata": {},
   "outputs": [
    {
     "data": {
      "text/plain": [
       "length    4.187039\n",
       "dtype: float64"
      ]
     },
     "execution_count": 7,
     "metadata": {},
     "output_type": "execute_result"
    }
   ],
   "source": [
    "mu = sp.mean(fish)\n",
    "mu"
   ]
  },
  {
   "cell_type": "code",
   "execution_count": 10,
   "id": "6c6d4e86-9b67-4a86-a0f2-4820defc47cc",
   "metadata": {},
   "outputs": [
    {
     "data": {
      "text/plain": [
       "length    0.824804\n",
       "dtype: float64"
      ]
     },
     "execution_count": 10,
     "metadata": {},
     "output_type": "execute_result"
    }
   ],
   "source": [
    "sigma = sp.std(fish, ddof=1)\n",
    "sigma"
   ]
  },
  {
   "cell_type": "markdown",
   "id": "7d47fb80-420f-48cf-a2da-976838b9770d",
   "metadata": {},
   "source": [
    "### 区間推定\n",
    "- 区間推定に必要な情報は　→　自由度、標本平均、標準誤差\n",
    "- 算出に使用する関数 stats.t.interval(信頼区間, 自由度, 標本平均, 標準誤差) を指定する"
   ]
  },
  {
   "cell_type": "code",
   "execution_count": 15,
   "id": "b0c46061-af5e-45f8-87b6-84ef6570602f",
   "metadata": {},
   "outputs": [],
   "source": [
    "## 自由度\n",
    "df = len(fish) - 1 \n",
    "## 不偏標準偏差\n",
    "sigma = sp.std(fish, ddof=1)\n",
    "## 標準誤差\n",
    "se = sigma / sp.sqrt(len(fish))"
   ]
  },
  {
   "cell_type": "markdown",
   "id": "1e6f2e5d-1cf5-4291-8c8b-28d6efb5c3cd",
   "metadata": {},
   "source": [
    "#### 信頼区間の算出（両側95%信頼区間？）"
   ]
  },
  {
   "cell_type": "code",
   "execution_count": 17,
   "id": "4a4cc0d4-6283-43f7-ad40-a5b8227d5ecd",
   "metadata": {},
   "outputs": [
    {
     "data": {
      "text/plain": [
       "(array([3.59701006]), array([4.77706859]))"
      ]
     },
     "execution_count": 17,
     "metadata": {},
     "output_type": "execute_result"
    }
   ],
   "source": [
    "interval = stats.t.interval(alpha=0.95, df=df, loc=mu, scale=se)\n",
    "interval"
   ]
  }
 ],
 "metadata": {
  "kernelspec": {
   "display_name": "Python 3 (ipykernel)",
   "language": "python",
   "name": "python3"
  },
  "language_info": {
   "codemirror_mode": {
    "name": "ipython",
    "version": 3
   },
   "file_extension": ".py",
   "mimetype": "text/x-python",
   "name": "python",
   "nbconvert_exporter": "python",
   "pygments_lexer": "ipython3",
   "version": "3.10.5"
  }
 },
 "nbformat": 4,
 "nbformat_minor": 5
}
