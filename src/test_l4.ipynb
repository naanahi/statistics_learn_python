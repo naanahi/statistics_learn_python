{
 "cells": [
  {
   "cell_type": "markdown",
   "id": "8affe92b-c1db-41cb-9098-34052a48142a",
   "metadata": {},
   "source": [
    "### 正規分布を用いたシミュレーション的ななにか"
   ]
  },
  {
   "cell_type": "code",
   "execution_count": 2,
   "id": "2f92ad68-9d5a-4441-98fc-8f134851a77c",
   "metadata": {},
   "outputs": [],
   "source": [
    "import numpy as np\n",
    "import pandas as pd\n",
    "import scipy as sp\n",
    "from scipy import stats\n",
    "\n",
    "## 実行に無関係なエラーメッセージを消す\n",
    "import warnings\n",
    "warnings.filterwarnings('ignore')\n",
    "\n",
    "from matplotlib import pyplot as plt\n",
    "%matplotlib inline\n",
    "\n",
    "## いい感じのグラフを出力する\n",
    "import seaborn as sns\n",
    "sns.set()"
   ]
  },
  {
   "cell_type": "markdown",
   "id": "00245837-eaa5-4ac5-b340-e480d7b1aa62",
   "metadata": {},
   "source": [
    "### 母集団の定義\n",
    "- 母集団は常に平均4、標準偏差0.8の正規分布に従うとする"
   ]
  },
  {
   "cell_type": "code",
   "execution_count": 5,
   "id": "545d1ae6-a13f-465b-a4ff-91f38a2e710c",
   "metadata": {},
   "outputs": [
    {
     "data": {
      "text/plain": [
       "<scipy.stats._distn_infrastructure.rv_frozen at 0x7efcaf90bdc0>"
      ]
     },
     "execution_count": 5,
     "metadata": {},
     "output_type": "execute_result"
    }
   ],
   "source": [
    "population = stats.norm(loc = 4, scale = 0.8)\n",
    "population"
   ]
  },
  {
   "cell_type": "markdown",
   "id": "e5cb99dd-0938-4ba9-b797-1171c4a70b40",
   "metadata": {},
   "source": [
    "### 標本平均の抽出"
   ]
  },
  {
   "cell_type": "code",
   "execution_count": 8,
   "id": "fdd3ae40-a466-4dac-a137-11adeb68b9f5",
   "metadata": {},
   "outputs": [
    {
     "data": {
      "text/plain": [
       "array([3.92228729, 3.86432929, 4.06953003, ..., 4.13616562, 4.57489661,\n",
       "       4.09896685])"
      ]
     },
     "execution_count": 8,
     "metadata": {},
     "output_type": "execute_result"
    }
   ],
   "source": [
    "## 入れ物の初期化\n",
    "sample_mean_array = np.zeros(10000)\n",
    "np.random.seed(1)\n",
    "for i in range(0, 10000):\n",
    "    sample = population.rvs(size=10)\n",
    "    sample_mean_array[i] = sp.mean(sample)\n",
    "sample_mean_array"
   ]
  },
  {
   "cell_type": "code",
   "execution_count": 11,
   "id": "ce70152e-886e-4abd-a96c-38c522c816c6",
   "metadata": {},
   "outputs": [
    {
     "data": {
      "text/plain": [
       "<AxesSubplot:>"
      ]
     },
     "execution_count": 11,
     "metadata": {},
     "output_type": "execute_result"
    },
    {
     "data": {
      "image/png": "[encoded data removed]",
      "text/plain": [
       "<Figure size 432x288 with 1 Axes>"
      ]
     },
     "metadata": {},
     "output_type": "display_data"
    }
   ],
   "source": [
    "## ヒストグラムの出力\n",
    "sns.distplot(sample_mean_array, kde=False)"
   ]
  }
 ],
 "metadata": {
  "kernelspec": {
   "display_name": "Python 3 (ipykernel)",
   "language": "python",
   "name": "python3"
  },
  "language_info": {
   "codemirror_mode": {
    "name": "ipython",
    "version": 3
   },
   "file_extension": ".py",
   "mimetype": "text/x-python",
   "name": "python",
   "nbconvert_exporter": "python",
   "pygments_lexer": "ipython3",
   "version": "3.10.5"
  }
 },
 "nbformat": 4,
 "nbformat_minor": 5
}
