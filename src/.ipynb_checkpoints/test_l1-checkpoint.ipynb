{
 "cells": [
  {
   "cell_type": "code",
   "execution_count": 10,
   "id": "3b262bb8-8e9c-43a9-a0cb-e2d313e6ab15",
   "metadata": {},
   "outputs": [],
   "source": [
    "import numpy as np\n",
    "import pandas as pd\n",
    "import scipy as sp\n",
    "\n",
    "## 実行に無関係なエラーメッセージを消す\n",
    "import warnings\n",
    "warnings.filterwarnings('ignore')"
   ]
  },
  {
   "cell_type": "code",
   "execution_count": 2,
   "id": "8d53931e-9455-4600-b6e2-b14295bd9f98",
   "metadata": {},
   "outputs": [
    {
     "data": {
      "text/plain": [
       "[1, 2, 3, 4, 5]"
      ]
     },
     "execution_count": 2,
     "metadata": {},
     "output_type": "execute_result"
    }
   ],
   "source": [
    "sample_list = [1, 2, 3, 4, 5]\n",
    "sample_list"
   ]
  },
  {
   "cell_type": "markdown",
   "id": "b5b1aa50-34d8-4362-9c58-7f3d438e6271",
   "metadata": {},
   "source": [
    "### np.arrayの使用"
   ]
  },
  {
   "cell_type": "code",
   "execution_count": 9,
   "id": "4e8ca620-54a6-4ba9-91c5-fa5eebef84a9",
   "metadata": {},
   "outputs": [
    {
     "data": {
      "text/plain": [
       "array([1, 2, 3, 4, 5])"
      ]
     },
     "execution_count": 9,
     "metadata": {},
     "output_type": "execute_result"
    }
   ],
   "source": [
    "sample_array = np.array([1, 2, 3, 4, 5])\n",
    "sample_array"
   ]
  },
  {
   "cell_type": "markdown",
   "id": "de5364fb-e061-4253-a33f-f7d855cb5bfd",
   "metadata": {},
   "source": [
    "### pd.DataFrameの使用"
   ]
  },
  {
   "cell_type": "code",
   "execution_count": 14,
   "id": "6414f1fe-fe57-4e6e-926a-c2a6c2c985f8",
   "metadata": {},
   "outputs": [
    {
     "data": {
      "text/html": [
       "<div>\n",
       "<style scoped>\n",
       "    .dataframe tbody tr th:only-of-type {\n",
       "        vertical-align: middle;\n",
       "    }\n",
       "\n",
       "    .dataframe tbody tr th {\n",
       "        vertical-align: top;\n",
       "    }\n",
       "\n",
       "    .dataframe thead th {\n",
       "        text-align: right;\n",
       "    }\n",
       "</style>\n",
       "<table border=\"1\" class=\"dataframe\">\n",
       "  <thead>\n",
       "    <tr style=\"text-align: right;\">\n",
       "      <th></th>\n",
       "      <th>col1</th>\n",
       "      <th>col2</th>\n",
       "      <th>col3</th>\n",
       "    </tr>\n",
       "  </thead>\n",
       "  <tbody>\n",
       "    <tr>\n",
       "      <th>0</th>\n",
       "      <td>1</td>\n",
       "      <td>2</td>\n",
       "      <td>A</td>\n",
       "    </tr>\n",
       "    <tr>\n",
       "      <th>1</th>\n",
       "      <td>2</td>\n",
       "      <td>4</td>\n",
       "      <td>B</td>\n",
       "    </tr>\n",
       "    <tr>\n",
       "      <th>2</th>\n",
       "      <td>3</td>\n",
       "      <td>6</td>\n",
       "      <td>C</td>\n",
       "    </tr>\n",
       "    <tr>\n",
       "      <th>3</th>\n",
       "      <td>4</td>\n",
       "      <td>8</td>\n",
       "      <td>D</td>\n",
       "    </tr>\n",
       "    <tr>\n",
       "      <th>4</th>\n",
       "      <td>5</td>\n",
       "      <td>10</td>\n",
       "      <td>E</td>\n",
       "    </tr>\n",
       "  </tbody>\n",
       "</table>\n",
       "</div>"
      ],
      "text/plain": [
       "   col1  col2 col3\n",
       "0     1     2    A\n",
       "1     2     4    B\n",
       "2     3     6    C\n",
       "3     4     8    D\n",
       "4     5    10    E"
      ]
     },
     "execution_count": 14,
     "metadata": {},
     "output_type": "execute_result"
    }
   ],
   "source": [
    "sample_df = pd.DataFrame({\n",
    "    'col1': sample_array,\n",
    "    'col2': sample_array * 2,\n",
    "    'col3': [\"A\", \"B\", \"C\", \"D\", \"E\"]\n",
    "})\n",
    "sample_df"
   ]
  },
  {
   "cell_type": "markdown",
   "id": "faaba22b-8966-4485-934e-39fec40c313c",
   "metadata": {},
   "source": [
    "### ファイルデータの読み込み"
   ]
  },
  {
   "cell_type": "code",
   "execution_count": 21,
   "id": "b6669e9c-898f-4273-8597-1f2c53f99634",
   "metadata": {},
   "outputs": [
    {
     "data": {
      "text/html": [
       "<div>\n",
       "<style scoped>\n",
       "    .dataframe tbody tr th:only-of-type {\n",
       "        vertical-align: middle;\n",
       "    }\n",
       "\n",
       "    .dataframe tbody tr th {\n",
       "        vertical-align: top;\n",
       "    }\n",
       "\n",
       "    .dataframe thead th {\n",
       "        text-align: right;\n",
       "    }\n",
       "</style>\n",
       "<table border=\"1\" class=\"dataframe\">\n",
       "  <thead>\n",
       "    <tr style=\"text-align: right;\">\n",
       "      <th></th>\n",
       "      <th>col1</th>\n",
       "      <th>col2</th>\n",
       "    </tr>\n",
       "  </thead>\n",
       "  <tbody>\n",
       "    <tr>\n",
       "      <th>0</th>\n",
       "      <td>1</td>\n",
       "      <td>A</td>\n",
       "    </tr>\n",
       "    <tr>\n",
       "      <th>1</th>\n",
       "      <td>2</td>\n",
       "      <td>A</td>\n",
       "    </tr>\n",
       "    <tr>\n",
       "      <th>2</th>\n",
       "      <td>3</td>\n",
       "      <td>B</td>\n",
       "    </tr>\n",
       "    <tr>\n",
       "      <th>3</th>\n",
       "      <td>4</td>\n",
       "      <td>B</td>\n",
       "    </tr>\n",
       "    <tr>\n",
       "      <th>4</th>\n",
       "      <td>5</td>\n",
       "      <td>C</td>\n",
       "    </tr>\n",
       "    <tr>\n",
       "      <th>5</th>\n",
       "      <td>6</td>\n",
       "      <td>C</td>\n",
       "    </tr>\n",
       "  </tbody>\n",
       "</table>\n",
       "</div>"
      ],
      "text/plain": [
       "   col1 col2\n",
       "0     1    A\n",
       "1     2    A\n",
       "2     3    B\n",
       "3     4    B\n",
       "4     5    C\n",
       "5     6    C"
      ]
     },
     "execution_count": 21,
     "metadata": {},
     "output_type": "execute_result"
    }
   ],
   "source": [
    "file_data = pd.read_csv('./data/2-4-1-sample_data.csv')\n",
    "file_data"
   ]
  },
  {
   "cell_type": "markdown",
   "id": "a6460a19-969b-4ef7-8b66-6ee19e64393d",
   "metadata": {},
   "source": [
    "### 1変量のデータ管理"
   ]
  },
  {
   "cell_type": "code",
   "execution_count": 3,
   "id": "eec5ad13-3db8-4a8e-980f-6f08af69005a",
   "metadata": {},
   "outputs": [
    {
     "data": {
      "text/plain": [
       "array([2, 3, 4, 3, 4, 5, 5, 5, 6])"
      ]
     },
     "execution_count": 3,
     "metadata": {},
     "output_type": "execute_result"
    }
   ],
   "source": [
    "fish_data = np.array([2, 3, 4, 3, 4, 5, 5, 5, 6])\n",
    "fish_data"
   ]
  },
  {
   "cell_type": "code",
   "execution_count": 19,
   "id": "dd448c2f-f598-4241-aeed-24de92c55914",
   "metadata": {},
   "outputs": [
    {
     "data": {
      "text/plain": [
       "1.2692955176439846"
      ]
     },
     "execution_count": 19,
     "metadata": {},
     "output_type": "execute_result"
    }
   ],
   "source": [
    "## 合計\n",
    "sp.sum(fish_data)\n",
    "## 平均\n",
    "sp.mean(fish_data)\n",
    "## 不偏分散\n",
    "sp.var(fish_data, ddof=1)\n",
    "## 不偏標準偏差\n",
    "sp.std(fish_data, ddof=1)"
   ]
  }
 ],
 "metadata": {
  "kernelspec": {
   "display_name": "Python 3 (ipykernel)",
   "language": "python",
   "name": "python3"
  },
  "language_info": {
   "codemirror_mode": {
    "name": "ipython",
    "version": 3
   },
   "file_extension": ".py",
   "mimetype": "text/x-python",
   "name": "python",
   "nbconvert_exporter": "python",
   "pygments_lexer": "ipython3",
   "version": "3.10.5"
  }
 },
 "nbformat": 4,
 "nbformat_minor": 5
}
