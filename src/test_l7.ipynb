{
 "cells": [
  {
   "cell_type": "markdown",
   "id": "713282f9-b1b7-42b5-8927-094f27cd9392",
   "metadata": {},
   "source": [
    "### 平均の差の検定"
   ]
  },
  {
   "cell_type": "code",
   "execution_count": 2,
   "id": "ec6cc29a-e50b-4b5c-b311-8ec79effd256",
   "metadata": {},
   "outputs": [],
   "source": [
    "import numpy as np\n",
    "import pandas as pd\n",
    "import scipy as sp\n",
    "from scipy import stats\n",
    "\n",
    "## 実行に無関係なエラーメッセージを消す\n",
    "import warnings\n",
    "warnings.filterwarnings('ignore')\n",
    "\n",
    "from matplotlib import pyplot as plt\n",
    "%matplotlib inline\n",
    "\n",
    "## いい感じのグラフを出力する\n",
    "import seaborn as sns\n",
    "sns.set()"
   ]
  },
  {
   "cell_type": "code",
   "execution_count": 10,
   "id": "77c8ded3-9481-4298-bf92-6fec822a3739",
   "metadata": {},
   "outputs": [
    {
     "data": {
      "text/html": [
       "<div>\n",
       "<style scoped>\n",
       "    .dataframe tbody tr th:only-of-type {\n",
       "        vertical-align: middle;\n",
       "    }\n",
       "\n",
       "    .dataframe tbody tr th {\n",
       "        vertical-align: top;\n",
       "    }\n",
       "\n",
       "    .dataframe thead th {\n",
       "        text-align: right;\n",
       "    }\n",
       "</style>\n",
       "<table border=\"1\" class=\"dataframe\">\n",
       "  <thead>\n",
       "    <tr style=\"text-align: right;\">\n",
       "      <th></th>\n",
       "      <th>person</th>\n",
       "      <th>medicine</th>\n",
       "      <th>body_temperature</th>\n",
       "    </tr>\n",
       "  </thead>\n",
       "  <tbody>\n",
       "    <tr>\n",
       "      <th>0</th>\n",
       "      <td>A</td>\n",
       "      <td>before</td>\n",
       "      <td>36.2</td>\n",
       "    </tr>\n",
       "    <tr>\n",
       "      <th>1</th>\n",
       "      <td>B</td>\n",
       "      <td>before</td>\n",
       "      <td>36.2</td>\n",
       "    </tr>\n",
       "    <tr>\n",
       "      <th>2</th>\n",
       "      <td>C</td>\n",
       "      <td>before</td>\n",
       "      <td>35.3</td>\n",
       "    </tr>\n",
       "    <tr>\n",
       "      <th>3</th>\n",
       "      <td>D</td>\n",
       "      <td>before</td>\n",
       "      <td>36.1</td>\n",
       "    </tr>\n",
       "    <tr>\n",
       "      <th>4</th>\n",
       "      <td>E</td>\n",
       "      <td>before</td>\n",
       "      <td>36.1</td>\n",
       "    </tr>\n",
       "    <tr>\n",
       "      <th>5</th>\n",
       "      <td>A</td>\n",
       "      <td>after</td>\n",
       "      <td>36.8</td>\n",
       "    </tr>\n",
       "    <tr>\n",
       "      <th>6</th>\n",
       "      <td>B</td>\n",
       "      <td>after</td>\n",
       "      <td>36.1</td>\n",
       "    </tr>\n",
       "    <tr>\n",
       "      <th>7</th>\n",
       "      <td>C</td>\n",
       "      <td>after</td>\n",
       "      <td>36.8</td>\n",
       "    </tr>\n",
       "    <tr>\n",
       "      <th>8</th>\n",
       "      <td>D</td>\n",
       "      <td>after</td>\n",
       "      <td>37.1</td>\n",
       "    </tr>\n",
       "    <tr>\n",
       "      <th>9</th>\n",
       "      <td>E</td>\n",
       "      <td>after</td>\n",
       "      <td>36.9</td>\n",
       "    </tr>\n",
       "  </tbody>\n",
       "</table>\n",
       "</div>"
      ],
      "text/plain": [
       "  person medicine  body_temperature\n",
       "0      A   before              36.2\n",
       "1      B   before              36.2\n",
       "2      C   before              35.3\n",
       "3      D   before              36.1\n",
       "4      E   before              36.1\n",
       "5      A    after              36.8\n",
       "6      B    after              36.1\n",
       "7      C    after              36.8\n",
       "8      D    after              37.1\n",
       "9      E    after              36.9"
      ]
     },
     "execution_count": 10,
     "metadata": {},
     "output_type": "execute_result"
    }
   ],
   "source": [
    "paired_test_data = pd.read_csv('data/3-9-1-paired-t-test.csv')\n",
    "paired_test_data"
   ]
  },
  {
   "cell_type": "markdown",
   "id": "1ad9b054-3761-4fb1-9275-b50423e65c07",
   "metadata": {},
   "source": [
    "### 平均の差の検定（対応のあるt検定）"
   ]
  },
  {
   "cell_type": "code",
   "execution_count": 11,
   "id": "a608618f-3980-4e85-8d7b-ca7535bf820e",
   "metadata": {},
   "outputs": [
    {
     "data": {
      "text/plain": [
       "array([-0.6,  0.1, -1.5, -1. , -0.8])"
      ]
     },
     "execution_count": 11,
     "metadata": {},
     "output_type": "execute_result"
    }
   ],
   "source": [
    "## 薬を飲む前と後の標本平均の差\n",
    "before = paired_test_data.query('medicine == \"before\"')[\"body_temperature\"]\n",
    "after = paired_test_data.query('medicine == \"after\"')[\"body_temperature\"]\n",
    "before = np.array(before)\n",
    "after = np.array(after)\n",
    "diff = before - after\n",
    "diff"
   ]
  },
  {
   "cell_type": "code",
   "execution_count": 12,
   "id": "1d34c67f-5ff9-4319-9325-b9394e887800",
   "metadata": {},
   "outputs": [
    {
     "data": {
      "text/plain": [
       "Ttest_1sampResult(statistic=-2.901693483620596, pvalue=0.044043109730074276)"
      ]
     },
     "execution_count": 12,
     "metadata": {},
     "output_type": "execute_result"
    }
   ],
   "source": [
    "## 平均の差の検定（帰無仮説は0 ※平均に差がない）\n",
    "stats.ttest_1samp(diff, 0)"
   ]
  },
  {
   "cell_type": "markdown",
   "id": "0792d2c8-c2f0-441a-aa32-e82292dd66b0",
   "metadata": {},
   "source": [
    "- p値が0.05を下回ったことからH0を棄却できる"
   ]
  },
  {
   "cell_type": "markdown",
   "id": "e3a6dfd1-4daa-4ddf-9292-1b5289291bd8",
   "metadata": {},
   "source": [
    "### もっと簡単に平均の差の検定"
   ]
  },
  {
   "cell_type": "code",
   "execution_count": 17,
   "id": "484e8bd1-a22e-4b89-b873-41f36f8e3046",
   "metadata": {},
   "outputs": [
    {
     "data": {
      "text/plain": [
       "Ttest_relResult(statistic=2.901693483620596, pvalue=0.044043109730074276)"
      ]
     },
     "execution_count": 17,
     "metadata": {},
     "output_type": "execute_result"
    }
   ],
   "source": [
    "stats.ttest_rel(after, before)"
   ]
  },
  {
   "cell_type": "markdown",
   "id": "888d4ef6-9e4c-45fa-8387-9cbf92a34e9a",
   "metadata": {},
   "source": [
    "### 対応のないt検定"
   ]
  },
  {
   "cell_type": "code",
   "execution_count": 25,
   "id": "834c1089-db5c-4cb4-93bf-b5d37d0316b2",
   "metadata": {},
   "outputs": [
    {
     "data": {
      "text/plain": [
       "3.1557282344421034"
      ]
     },
     "execution_count": 25,
     "metadata": {},
     "output_type": "execute_result"
    }
   ],
   "source": [
    "### t値の算出\n",
    "\n",
    "## 平均\n",
    "mean_bef = sp.mean(before)\n",
    "mean_aft = sp.mean(after)\n",
    "\n",
    "## 分散\n",
    "sigma_bef = sp.var(before, ddof=1)\n",
    "sigma_aft = sp.var(after, ddof=1)\n",
    "\n",
    "## サンプルサイズ\n",
    "m = len(before)\n",
    "n = len(after)\n",
    "\n",
    "# t値\n",
    "t_value = (mean_aft - mean_bef) / sp.sqrt((sigma_bef / m + sigma_aft / n))\n",
    "t_value"
   ]
  },
  {
   "cell_type": "markdown",
   "id": "140a417e-372b-4a21-944c-5e804e395711",
   "metadata": {},
   "source": [
    "#### t値を算出した後、Welchの近似法でp値を算出するらしい…\n",
    "- あとで"
   ]
  },
  {
   "cell_type": "markdown",
   "id": "1e83b67b-9191-4c15-9901-38260a43e63c",
   "metadata": {},
   "source": [
    "### もっと簡単に対応のないt検定"
   ]
  },
  {
   "cell_type": "code",
   "execution_count": 26,
   "id": "ae0192f7-7c45-46de-b599-e681846682da",
   "metadata": {},
   "outputs": [
    {
     "data": {
      "text/plain": [
       "Ttest_indResult(statistic=3.1557282344421034, pvalue=0.013484775682079892)"
      ]
     },
     "execution_count": 26,
     "metadata": {},
     "output_type": "execute_result"
    }
   ],
   "source": [
    "stats.ttest_ind(after, before, equal_var=False)"
   ]
  }
 ],
 "metadata": {
  "kernelspec": {
   "display_name": "Python 3 (ipykernel)",
   "language": "python",
   "name": "python3"
  },
  "language_info": {
   "codemirror_mode": {
    "name": "ipython",
    "version": 3
   },
   "file_extension": ".py",
   "mimetype": "text/x-python",
   "name": "python",
   "nbconvert_exporter": "python",
   "pygments_lexer": "ipython3",
   "version": "3.10.5"
  }
 },
 "nbformat": 4,
 "nbformat_minor": 5
}
