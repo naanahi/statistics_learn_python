{
 "cells": [
  {
   "cell_type": "markdown",
   "id": "92b72714-02a7-482c-9584-094e3a44b567",
   "metadata": {},
   "source": [
    "### t検定"
   ]
  },
  {
   "cell_type": "code",
   "execution_count": 1,
   "id": "31ee4093-2db1-4e9a-9747-8b63f1827b92",
   "metadata": {},
   "outputs": [],
   "source": [
    "import numpy as np\n",
    "import pandas as pd\n",
    "import scipy as sp\n",
    "from scipy import stats\n",
    "\n",
    "## 実行に無関係なエラーメッセージを消す\n",
    "import warnings\n",
    "warnings.filterwarnings('ignore')\n",
    "\n",
    "from matplotlib import pyplot as plt\n",
    "%matplotlib inline\n",
    "\n",
    "## いい感じのグラフを出力する\n",
    "import seaborn as sns\n",
    "sns.set()"
   ]
  },
  {
   "cell_type": "code",
   "execution_count": 3,
   "id": "31d90b22-cfd7-44da-9252-f747df1d41fc",
   "metadata": {},
   "outputs": [
    {
     "data": {
      "text/html": [
       "<div>\n",
       "<style scoped>\n",
       "    .dataframe tbody tr th:only-of-type {\n",
       "        vertical-align: middle;\n",
       "    }\n",
       "\n",
       "    .dataframe tbody tr th {\n",
       "        vertical-align: top;\n",
       "    }\n",
       "\n",
       "    .dataframe thead th {\n",
       "        text-align: right;\n",
       "    }\n",
       "</style>\n",
       "<table border=\"1\" class=\"dataframe\">\n",
       "  <thead>\n",
       "    <tr style=\"text-align: right;\">\n",
       "      <th></th>\n",
       "      <th>weight</th>\n",
       "    </tr>\n",
       "  </thead>\n",
       "  <tbody>\n",
       "    <tr>\n",
       "      <th>0</th>\n",
       "      <td>58.529820</td>\n",
       "    </tr>\n",
       "    <tr>\n",
       "      <th>1</th>\n",
       "      <td>52.353039</td>\n",
       "    </tr>\n",
       "    <tr>\n",
       "      <th>2</th>\n",
       "      <td>74.446169</td>\n",
       "    </tr>\n",
       "    <tr>\n",
       "      <th>3</th>\n",
       "      <td>52.983263</td>\n",
       "    </tr>\n",
       "    <tr>\n",
       "      <th>4</th>\n",
       "      <td>55.876879</td>\n",
       "    </tr>\n",
       "  </tbody>\n",
       "</table>\n",
       "</div>"
      ],
      "text/plain": [
       "      weight\n",
       "0  58.529820\n",
       "1  52.353039\n",
       "2  74.446169\n",
       "3  52.983263\n",
       "4  55.876879"
      ]
     },
     "execution_count": 3,
     "metadata": {},
     "output_type": "execute_result"
    }
   ],
   "source": [
    "junk_food = pd.read_csv('data/3-8-1-junk-food-weight.csv')\n",
    "junk_food.head()"
   ]
  },
  {
   "cell_type": "markdown",
   "id": "9d5f50b8-5897-4eca-a857-ecb070718316",
   "metadata": {},
   "source": [
    "#### T値の算出 <- 平均、自由度、標準誤差の算出"
   ]
  },
  {
   "cell_type": "code",
   "execution_count": 17,
   "id": "3e2f3d18-cd99-4580-a329-7aca15baa4d2",
   "metadata": {},
   "outputs": [],
   "source": [
    "## 標本平均\n",
    "mu = sp.mean(junk_food)\n",
    "## 自由度\n",
    "df = len(junk_food) - 1\n",
    "## 標準誤差\n",
    "sigma = sp.std(junk_food, ddof=1)\n",
    "se = sigma / sp.sqrt(len(junk_food))\n",
    "## T値(H0は\"50\"であるという前提がある)\n",
    "t_value = (mu - 50) / se"
   ]
  },
  {
   "cell_type": "code",
   "execution_count": 22,
   "id": "affe4062-ef49-4612-abb6-8cf77376f058",
   "metadata": {},
   "outputs": [
    {
     "data": {
      "text/plain": [
       "array([0.01272559])"
      ]
     },
     "execution_count": 22,
     "metadata": {},
     "output_type": "execute_result"
    }
   ],
   "source": [
    "## p値の算出\n",
    "alpha = stats.t.cdf(t_value, df = df)\n",
    "(1 - alpha) * 2"
   ]
  },
  {
   "cell_type": "markdown",
   "id": "eba0f4d7-acf6-4400-9bc1-6d8321fb0e02",
   "metadata": {},
   "source": [
    "- 1-aで有意差が得られる。両側検定のため、*2をする\n",
    "- 算出されたp値が0.05を下回っているので、有意差がある（帰無仮説が棄却され、対立仮説が採用される）"
   ]
  },
  {
   "cell_type": "markdown",
   "id": "7e683231-92d5-4c91-988c-09bd698de2b6",
   "metadata": {},
   "source": [
    "#### もっと簡単にｔ検定を行う"
   ]
  },
  {
   "cell_type": "code",
   "execution_count": 27,
   "id": "201d955f-8212-4a5d-be46-54d8db23de24",
   "metadata": {},
   "outputs": [
    {
     "data": {
      "text/plain": [
       "Ttest_1sampResult(statistic=array([2.75033968]), pvalue=array([0.01272559]))"
      ]
     },
     "execution_count": 27,
     "metadata": {},
     "output_type": "execute_result"
    }
   ],
   "source": [
    "stats.ttest_1samp(junk_food, 50)"
   ]
  },
  {
   "cell_type": "code",
   "execution_count": 33,
   "id": "05c2d133-68c8-4ddb-934f-8e66e79d5f4c",
   "metadata": {},
   "outputs": [
    {
     "data": {
      "text/plain": [
       "(weight    2.75034\n",
       " dtype: float64,\n",
       " array([0.01272559]))"
      ]
     },
     "execution_count": 33,
     "metadata": {},
     "output_type": "execute_result"
    }
   ],
   "source": [
    "(t_value, (1 - alpha) * 2)"
   ]
  }
 ],
 "metadata": {
  "kernelspec": {
   "display_name": "Python 3 (ipykernel)",
   "language": "python",
   "name": "python3"
  },
  "language_info": {
   "codemirror_mode": {
    "name": "ipython",
    "version": 3
   },
   "file_extension": ".py",
   "mimetype": "text/x-python",
   "name": "python",
   "nbconvert_exporter": "python",
   "pygments_lexer": "ipython3",
   "version": "3.10.5"
  }
 },
 "nbformat": 4,
 "nbformat_minor": 5
}
